{
 "cells": [
  {
   "cell_type": "markdown",
   "id": "e45a8294",
   "metadata": {
    "papermill": {
     "duration": 0.016575,
     "end_time": "2022-01-06T20:50:44.250002",
     "exception": false,
     "start_time": "2022-01-06T20:50:44.233427",
     "status": "completed"
    },
    "tags": []
   },
   "source": [
    "**This notebook is an exercise in the [Pandas](https://www.kaggle.com/learn/pandas) course.  You can reference the tutorial at [this link](https://www.kaggle.com/residentmario/data-types-and-missing-values).**\n",
    "\n",
    "---\n"
   ]
  },
  {
   "cell_type": "markdown",
   "id": "f8633e1f",
   "metadata": {
    "papermill": {
     "duration": 0.010017,
     "end_time": "2022-01-06T20:50:44.270649",
     "exception": false,
     "start_time": "2022-01-06T20:50:44.260632",
     "status": "completed"
    },
    "tags": []
   },
   "source": [
    "# Introduction\n",
    "\n",
    "Run the following cell to load your data and some utility functions."
   ]
  },
  {
   "cell_type": "code",
   "execution_count": 1,
   "id": "2bc4ea7f",
   "metadata": {
    "execution": {
     "iopub.execute_input": "2022-01-06T20:50:44.300976Z",
     "iopub.status.busy": "2022-01-06T20:50:44.300256Z",
     "iopub.status.idle": "2022-01-06T20:50:47.063917Z",
     "shell.execute_reply": "2022-01-06T20:50:47.063056Z",
     "shell.execute_reply.started": "2022-01-06T20:08:47.846503Z"
    },
    "papermill": {
     "duration": 2.783133,
     "end_time": "2022-01-06T20:50:47.064100",
     "exception": false,
     "start_time": "2022-01-06T20:50:44.280967",
     "status": "completed"
    },
    "tags": []
   },
   "outputs": [
    {
     "name": "stdout",
     "output_type": "stream",
     "text": [
      "Setup complete.\n"
     ]
    }
   ],
   "source": [
    "import pandas as pd\n",
    "\n",
    "reviews = pd.read_csv(\"../input/wine-reviews/winemag-data-130k-v2.csv\", index_col=0)\n",
    "\n",
    "from learntools.core import binder; binder.bind(globals())\n",
    "from learntools.pandas.data_types_and_missing_data import *\n",
    "print(\"Setup complete.\")"
   ]
  },
  {
   "cell_type": "markdown",
   "id": "80e07cd7",
   "metadata": {
    "papermill": {
     "duration": 0.009824,
     "end_time": "2022-01-06T20:50:47.084511",
     "exception": false,
     "start_time": "2022-01-06T20:50:47.074687",
     "status": "completed"
    },
    "tags": []
   },
   "source": [
    "# Exercises"
   ]
  },
  {
   "cell_type": "markdown",
   "id": "ba47746f",
   "metadata": {
    "papermill": {
     "duration": 0.010281,
     "end_time": "2022-01-06T20:50:47.105437",
     "exception": false,
     "start_time": "2022-01-06T20:50:47.095156",
     "status": "completed"
    },
    "tags": []
   },
   "source": [
    "## 1. \n",
    "What is the data type of the `points` column in the dataset?"
   ]
  },
  {
   "cell_type": "code",
   "execution_count": 2,
   "id": "896b0575",
   "metadata": {
    "execution": {
     "iopub.execute_input": "2022-01-06T20:50:47.129992Z",
     "iopub.status.busy": "2022-01-06T20:50:47.129349Z",
     "iopub.status.idle": "2022-01-06T20:50:47.139033Z",
     "shell.execute_reply": "2022-01-06T20:50:47.139487Z",
     "shell.execute_reply.started": "2022-01-06T20:09:17.631356Z"
    },
    "papermill": {
     "duration": 0.023583,
     "end_time": "2022-01-06T20:50:47.139645",
     "exception": false,
     "start_time": "2022-01-06T20:50:47.116062",
     "status": "completed"
    },
    "tags": []
   },
   "outputs": [
    {
     "data": {
      "application/javascript": [
       "parent.postMessage({\"jupyterEvent\": \"custom.exercise_interaction\", \"data\": {\"outcomeType\": 1, \"valueTowardsCompletion\": 0.25, \"interactionType\": 1, \"questionType\": 1, \"questionId\": \"1_PointsDtype\", \"learnToolsVersion\": \"0.3.4\", \"failureMessage\": \"\", \"exceptionClass\": \"\", \"trace\": \"\"}}, \"*\")"
      ],
      "text/plain": [
       "<IPython.core.display.Javascript object>"
      ]
     },
     "metadata": {},
     "output_type": "display_data"
    },
    {
     "data": {
      "text/markdown": [
       "<span style=\"color:#33cc33\">Correct</span>"
      ],
      "text/plain": [
       "Correct"
      ]
     },
     "metadata": {},
     "output_type": "display_data"
    }
   ],
   "source": [
    "# Your code here\n",
    "dtype = reviews.points.dtype\n",
    "dtype\n",
    "\n",
    "# Check your answer\n",
    "q1.check()"
   ]
  },
  {
   "cell_type": "code",
   "execution_count": 3,
   "id": "57034c91",
   "metadata": {
    "execution": {
     "iopub.execute_input": "2022-01-06T20:50:47.164577Z",
     "iopub.status.busy": "2022-01-06T20:50:47.163965Z",
     "iopub.status.idle": "2022-01-06T20:50:47.169656Z",
     "shell.execute_reply": "2022-01-06T20:50:47.170195Z",
     "shell.execute_reply.started": "2022-01-06T20:09:22.300716Z"
    },
    "papermill": {
     "duration": 0.02013,
     "end_time": "2022-01-06T20:50:47.170356",
     "exception": false,
     "start_time": "2022-01-06T20:50:47.150226",
     "status": "completed"
    },
    "tags": []
   },
   "outputs": [
    {
     "data": {
      "application/javascript": [
       "parent.postMessage({\"jupyterEvent\": \"custom.exercise_interaction\", \"data\": {\"interactionType\": 3, \"questionType\": 1, \"questionId\": \"1_PointsDtype\", \"learnToolsVersion\": \"0.3.4\", \"valueTowardsCompletion\": 0.0, \"failureMessage\": \"\", \"exceptionClass\": \"\", \"trace\": \"\", \"outcomeType\": 4}}, \"*\")"
      ],
      "text/plain": [
       "<IPython.core.display.Javascript object>"
      ]
     },
     "metadata": {},
     "output_type": "display_data"
    },
    {
     "data": {
      "text/markdown": [
       "<span style=\"color:#33cc99\">Solution:</span> \n",
       "```python\n",
       "dtype = reviews.points.dtype\n",
       "```"
      ],
      "text/plain": [
       "Solution: \n",
       "```python\n",
       "dtype = reviews.points.dtype\n",
       "```"
      ]
     },
     "metadata": {},
     "output_type": "display_data"
    }
   ],
   "source": [
    "#q1.hint()\n",
    "q1.solution()"
   ]
  },
  {
   "cell_type": "markdown",
   "id": "d3601f37",
   "metadata": {
    "papermill": {
     "duration": 0.011078,
     "end_time": "2022-01-06T20:50:47.192563",
     "exception": false,
     "start_time": "2022-01-06T20:50:47.181485",
     "status": "completed"
    },
    "tags": []
   },
   "source": [
    "## 2. \n",
    "Create a Series from entries in the `points` column, but convert the entries to strings. Hint: strings are `str` in native Python."
   ]
  },
  {
   "cell_type": "code",
   "execution_count": 4,
   "id": "2ad3c0bd",
   "metadata": {
    "execution": {
     "iopub.execute_input": "2022-01-06T20:50:47.218206Z",
     "iopub.status.busy": "2022-01-06T20:50:47.217600Z",
     "iopub.status.idle": "2022-01-06T20:50:47.310599Z",
     "shell.execute_reply": "2022-01-06T20:50:47.311056Z",
     "shell.execute_reply.started": "2022-01-06T20:12:39.508296Z"
    },
    "papermill": {
     "duration": 0.107539,
     "end_time": "2022-01-06T20:50:47.311218",
     "exception": false,
     "start_time": "2022-01-06T20:50:47.203679",
     "status": "completed"
    },
    "tags": []
   },
   "outputs": [
    {
     "data": {
      "application/javascript": [
       "parent.postMessage({\"jupyterEvent\": \"custom.exercise_interaction\", \"data\": {\"outcomeType\": 1, \"valueTowardsCompletion\": 0.25, \"interactionType\": 1, \"questionType\": 1, \"questionId\": \"2_StrPoints\", \"learnToolsVersion\": \"0.3.4\", \"failureMessage\": \"\", \"exceptionClass\": \"\", \"trace\": \"\"}}, \"*\")"
      ],
      "text/plain": [
       "<IPython.core.display.Javascript object>"
      ]
     },
     "metadata": {},
     "output_type": "display_data"
    },
    {
     "data": {
      "text/markdown": [
       "<span style=\"color:#33cc33\">Correct</span>"
      ],
      "text/plain": [
       "Correct"
      ]
     },
     "metadata": {},
     "output_type": "display_data"
    }
   ],
   "source": [
    "point_strings = reviews.points.astype('str')\n",
    "point_strings\n",
    "\n",
    "# Check your answer\n",
    "q2.check()"
   ]
  },
  {
   "cell_type": "code",
   "execution_count": 5,
   "id": "36ab2658",
   "metadata": {
    "execution": {
     "iopub.execute_input": "2022-01-06T20:50:47.341599Z",
     "iopub.status.busy": "2022-01-06T20:50:47.340922Z",
     "iopub.status.idle": "2022-01-06T20:50:47.346031Z",
     "shell.execute_reply": "2022-01-06T20:50:47.346601Z",
     "shell.execute_reply.started": "2022-01-06T20:12:43.599488Z"
    },
    "papermill": {
     "duration": 0.023498,
     "end_time": "2022-01-06T20:50:47.346810",
     "exception": false,
     "start_time": "2022-01-06T20:50:47.323312",
     "status": "completed"
    },
    "tags": []
   },
   "outputs": [
    {
     "data": {
      "application/javascript": [
       "parent.postMessage({\"jupyterEvent\": \"custom.exercise_interaction\", \"data\": {\"interactionType\": 3, \"questionType\": 1, \"questionId\": \"2_StrPoints\", \"learnToolsVersion\": \"0.3.4\", \"valueTowardsCompletion\": 0.0, \"failureMessage\": \"\", \"exceptionClass\": \"\", \"trace\": \"\", \"outcomeType\": 4}}, \"*\")"
      ],
      "text/plain": [
       "<IPython.core.display.Javascript object>"
      ]
     },
     "metadata": {},
     "output_type": "display_data"
    },
    {
     "data": {
      "text/markdown": [
       "<span style=\"color:#33cc99\">Solution:</span> \n",
       "```python\n",
       "point_strings = reviews.points.astype(str)\n",
       "```"
      ],
      "text/plain": [
       "Solution: \n",
       "```python\n",
       "point_strings = reviews.points.astype(str)\n",
       "```"
      ]
     },
     "metadata": {},
     "output_type": "display_data"
    }
   ],
   "source": [
    "#q2.hint()\n",
    "q2.solution()"
   ]
  },
  {
   "cell_type": "markdown",
   "id": "ed5a78d7",
   "metadata": {
    "papermill": {
     "duration": 0.012507,
     "end_time": "2022-01-06T20:50:47.372168",
     "exception": false,
     "start_time": "2022-01-06T20:50:47.359661",
     "status": "completed"
    },
    "tags": []
   },
   "source": [
    "## 3.\n",
    "Sometimes the price column is null. How many reviews in the dataset are missing a price?"
   ]
  },
  {
   "cell_type": "code",
   "execution_count": 6,
   "id": "a3f24f06",
   "metadata": {
    "execution": {
     "iopub.execute_input": "2022-01-06T20:50:47.403583Z",
     "iopub.status.busy": "2022-01-06T20:50:47.400336Z",
     "iopub.status.idle": "2022-01-06T20:50:47.418126Z",
     "shell.execute_reply": "2022-01-06T20:50:47.418523Z",
     "shell.execute_reply.started": "2022-01-06T20:20:03.951828Z"
    },
    "papermill": {
     "duration": 0.033726,
     "end_time": "2022-01-06T20:50:47.418705",
     "exception": false,
     "start_time": "2022-01-06T20:50:47.384979",
     "status": "completed"
    },
    "tags": []
   },
   "outputs": [
    {
     "data": {
      "application/javascript": [
       "parent.postMessage({\"jupyterEvent\": \"custom.exercise_interaction\", \"data\": {\"outcomeType\": 1, \"valueTowardsCompletion\": 0.25, \"interactionType\": 1, \"questionType\": 1, \"questionId\": \"3_CountMissingPrices\", \"learnToolsVersion\": \"0.3.4\", \"failureMessage\": \"\", \"exceptionClass\": \"\", \"trace\": \"\"}}, \"*\")"
      ],
      "text/plain": [
       "<IPython.core.display.Javascript object>"
      ]
     },
     "metadata": {},
     "output_type": "display_data"
    },
    {
     "data": {
      "text/markdown": [
       "<span style=\"color:#33cc33\">Correct</span>"
      ],
      "text/plain": [
       "Correct"
      ]
     },
     "metadata": {},
     "output_type": "display_data"
    }
   ],
   "source": [
    "n_missing_prices = reviews[pd.isnull(reviews.price)]\n",
    "n_missing_prices = len(n_missing_prices)\n",
    "n_missing_prices\n",
    "\n",
    "# Check your answer\n",
    "q3.check()"
   ]
  },
  {
   "cell_type": "code",
   "execution_count": 7,
   "id": "78363211",
   "metadata": {
    "execution": {
     "iopub.execute_input": "2022-01-06T20:50:47.450120Z",
     "iopub.status.busy": "2022-01-06T20:50:47.449526Z",
     "iopub.status.idle": "2022-01-06T20:50:47.455035Z",
     "shell.execute_reply": "2022-01-06T20:50:47.455521Z",
     "shell.execute_reply.started": "2022-01-06T20:17:36.106704Z"
    },
    "papermill": {
     "duration": 0.022614,
     "end_time": "2022-01-06T20:50:47.455677",
     "exception": false,
     "start_time": "2022-01-06T20:50:47.433063",
     "status": "completed"
    },
    "tags": []
   },
   "outputs": [
    {
     "data": {
      "application/javascript": [
       "parent.postMessage({\"jupyterEvent\": \"custom.exercise_interaction\", \"data\": {\"interactionType\": 3, \"questionType\": 1, \"questionId\": \"3_CountMissingPrices\", \"learnToolsVersion\": \"0.3.4\", \"valueTowardsCompletion\": 0.0, \"failureMessage\": \"\", \"exceptionClass\": \"\", \"trace\": \"\", \"outcomeType\": 4}}, \"*\")"
      ],
      "text/plain": [
       "<IPython.core.display.Javascript object>"
      ]
     },
     "metadata": {},
     "output_type": "display_data"
    },
    {
     "data": {
      "text/markdown": [
       "<span style=\"color:#33cc99\">Solution:</span> \n",
       "```python\n",
       "missing_price_reviews = reviews[reviews.price.isnull()]\n",
       "n_missing_prices = len(missing_price_reviews)\n",
       "# Cute alternative solution: if we sum a boolean series, True is treated as 1 and False as 0\n",
       "n_missing_prices = reviews.price.isnull().sum()\n",
       "# or equivalently:\n",
       "n_missing_prices = pd.isnull(reviews.price).sum()\n",
       "\n",
       "```"
      ],
      "text/plain": [
       "Solution: \n",
       "```python\n",
       "missing_price_reviews = reviews[reviews.price.isnull()]\n",
       "n_missing_prices = len(missing_price_reviews)\n",
       "# Cute alternative solution: if we sum a boolean series, True is treated as 1 and False as 0\n",
       "n_missing_prices = reviews.price.isnull().sum()\n",
       "# or equivalently:\n",
       "n_missing_prices = pd.isnull(reviews.price).sum()\n",
       "\n",
       "```"
      ]
     },
     "metadata": {},
     "output_type": "display_data"
    }
   ],
   "source": [
    "#q3.hint()\n",
    "q3.solution()"
   ]
  },
  {
   "cell_type": "markdown",
   "id": "a4614ae9",
   "metadata": {
    "papermill": {
     "duration": 0.013763,
     "end_time": "2022-01-06T20:50:47.483503",
     "exception": false,
     "start_time": "2022-01-06T20:50:47.469740",
     "status": "completed"
    },
    "tags": []
   },
   "source": [
    "## 4.\n",
    "What are the most common wine-producing regions? Create a Series counting the number of times each value occurs in the `region_1` field. This field is often missing data, so replace missing values with `Unknown`. Sort in descending order.  Your output should look something like this:\n",
    "\n",
    "```\n",
    "Unknown                    21247\n",
    "Napa Valley                 4480\n",
    "                           ...  \n",
    "Bardolino Superiore            1\n",
    "Primitivo del Tarantino        1\n",
    "Name: region_1, Length: 1230, dtype: int64\n",
    "```"
   ]
  },
  {
   "cell_type": "code",
   "execution_count": 8,
   "id": "aac54e73",
   "metadata": {
    "execution": {
     "iopub.execute_input": "2022-01-06T20:50:47.515298Z",
     "iopub.status.busy": "2022-01-06T20:50:47.514706Z",
     "iopub.status.idle": "2022-01-06T20:50:47.575940Z",
     "shell.execute_reply": "2022-01-06T20:50:47.575472Z",
     "shell.execute_reply.started": "2022-01-06T20:48:49.009980Z"
    },
    "papermill": {
     "duration": 0.078296,
     "end_time": "2022-01-06T20:50:47.576077",
     "exception": false,
     "start_time": "2022-01-06T20:50:47.497781",
     "status": "completed"
    },
    "tags": []
   },
   "outputs": [
    {
     "data": {
      "application/javascript": [
       "parent.postMessage({\"jupyterEvent\": \"custom.exercise_interaction\", \"data\": {\"outcomeType\": 1, \"valueTowardsCompletion\": 0.25, \"interactionType\": 1, \"questionType\": 2, \"questionId\": \"4_ReviewsPerRegion\", \"learnToolsVersion\": \"0.3.4\", \"failureMessage\": \"\", \"exceptionClass\": \"\", \"trace\": \"\"}}, \"*\")"
      ],
      "text/plain": [
       "<IPython.core.display.Javascript object>"
      ]
     },
     "metadata": {},
     "output_type": "display_data"
    },
    {
     "data": {
      "text/markdown": [
       "<span style=\"color:#33cc33\">Correct</span>"
      ],
      "text/plain": [
       "Correct"
      ]
     },
     "metadata": {},
     "output_type": "display_data"
    }
   ],
   "source": [
    "replace_values = reviews.region_1.fillna('Unknown')\n",
    "reviews_per_region = replace_values.groupby(replace_values).count().sort_values(ascending=False)\n",
    "reviews_per_region\n",
    "\n",
    "# Check your answer\n",
    "q4.check()"
   ]
  },
  {
   "cell_type": "code",
   "execution_count": 9,
   "id": "053cc622",
   "metadata": {
    "execution": {
     "iopub.execute_input": "2022-01-06T20:50:47.609475Z",
     "iopub.status.busy": "2022-01-06T20:50:47.608917Z",
     "iopub.status.idle": "2022-01-06T20:50:47.614545Z",
     "shell.execute_reply": "2022-01-06T20:50:47.615081Z",
     "shell.execute_reply.started": "2022-01-06T20:27:18.999256Z"
    },
    "papermill": {
     "duration": 0.024325,
     "end_time": "2022-01-06T20:50:47.615238",
     "exception": false,
     "start_time": "2022-01-06T20:50:47.590913",
     "status": "completed"
    },
    "tags": []
   },
   "outputs": [
    {
     "data": {
      "application/javascript": [
       "parent.postMessage({\"jupyterEvent\": \"custom.exercise_interaction\", \"data\": {\"interactionType\": 3, \"questionType\": 2, \"questionId\": \"4_ReviewsPerRegion\", \"learnToolsVersion\": \"0.3.4\", \"valueTowardsCompletion\": 0.0, \"failureMessage\": \"\", \"exceptionClass\": \"\", \"trace\": \"\", \"outcomeType\": 4}}, \"*\")"
      ],
      "text/plain": [
       "<IPython.core.display.Javascript object>"
      ]
     },
     "metadata": {},
     "output_type": "display_data"
    },
    {
     "data": {
      "text/markdown": [
       "<span style=\"color:#33cc99\">Solution:</span> \n",
       "```python\n",
       "reviews_per_region = reviews.region_1.fillna('Unknown').value_counts().sort_values(ascending=False)\n",
       "```"
      ],
      "text/plain": [
       "Solution: \n",
       "```python\n",
       "reviews_per_region = reviews.region_1.fillna('Unknown').value_counts().sort_values(ascending=False)\n",
       "```"
      ]
     },
     "metadata": {},
     "output_type": "display_data"
    }
   ],
   "source": [
    "#q4.hint()\n",
    "q4.solution()"
   ]
  },
  {
   "cell_type": "markdown",
   "id": "36c5275d",
   "metadata": {
    "papermill": {
     "duration": 0.015331,
     "end_time": "2022-01-06T20:50:47.646139",
     "exception": false,
     "start_time": "2022-01-06T20:50:47.630808",
     "status": "completed"
    },
    "tags": []
   },
   "source": [
    "# Keep going\n",
    "\n",
    "Move on to **[renaming and combining](https://www.kaggle.com/residentmario/renaming-and-combining)**."
   ]
  },
  {
   "cell_type": "markdown",
   "id": "03f1a0d4",
   "metadata": {
    "papermill": {
     "duration": 0.015421,
     "end_time": "2022-01-06T20:50:47.677174",
     "exception": false,
     "start_time": "2022-01-06T20:50:47.661753",
     "status": "completed"
    },
    "tags": []
   },
   "source": [
    "---\n",
    "\n",
    "\n",
    "\n",
    "\n",
    "*Have questions or comments? Visit the [course discussion forum](https://www.kaggle.com/learn/pandas/discussion) to chat with other learners.*"
   ]
  }
 ],
 "metadata": {
  "kernelspec": {
   "display_name": "Python 3",
   "language": "python",
   "name": "python3"
  },
  "language_info": {
   "codemirror_mode": {
    "name": "ipython",
    "version": 3
   },
   "file_extension": ".py",
   "mimetype": "text/x-python",
   "name": "python",
   "nbconvert_exporter": "python",
   "pygments_lexer": "ipython3",
   "version": "3.7.12"
  },
  "papermill": {
   "default_parameters": {},
   "duration": 13.079681,
   "end_time": "2022-01-06T20:50:48.403607",
   "environment_variables": {},
   "exception": null,
   "input_path": "__notebook__.ipynb",
   "output_path": "__notebook__.ipynb",
   "parameters": {},
   "start_time": "2022-01-06T20:50:35.323926",
   "version": "2.3.3"
  }
 },
 "nbformat": 4,
 "nbformat_minor": 5
}
