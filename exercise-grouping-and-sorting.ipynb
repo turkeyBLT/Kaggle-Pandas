{
 "cells": [
  {
   "cell_type": "markdown",
   "id": "0b665170",
   "metadata": {
    "papermill": {
     "duration": 0.019364,
     "end_time": "2022-01-06T18:55:59.643233",
     "exception": false,
     "start_time": "2022-01-06T18:55:59.623869",
     "status": "completed"
    },
    "tags": []
   },
   "source": [
    "**This notebook is an exercise in the [Pandas](https://www.kaggle.com/learn/pandas) course.  You can reference the tutorial at [this link](https://www.kaggle.com/residentmario/grouping-and-sorting).**\n",
    "\n",
    "---\n"
   ]
  },
  {
   "cell_type": "markdown",
   "id": "67a570a1",
   "metadata": {
    "papermill": {
     "duration": 0.017505,
     "end_time": "2022-01-06T18:55:59.679167",
     "exception": false,
     "start_time": "2022-01-06T18:55:59.661662",
     "status": "completed"
    },
    "tags": []
   },
   "source": [
    "# Introduction\n",
    "\n",
    "In these exercises we'll apply groupwise analysis to our dataset.\n",
    "\n",
    "Run the code cell below to load the data before running the exercises."
   ]
  },
  {
   "cell_type": "code",
   "execution_count": 1,
   "id": "0b48cb05",
   "metadata": {
    "execution": {
     "iopub.execute_input": "2022-01-06T18:55:59.719466Z",
     "iopub.status.busy": "2022-01-06T18:55:59.718270Z",
     "iopub.status.idle": "2022-01-06T18:56:02.880734Z",
     "shell.execute_reply": "2022-01-06T18:56:02.879934Z",
     "shell.execute_reply.started": "2022-01-06T18:21:44.675028Z"
    },
    "papermill": {
     "duration": 3.184044,
     "end_time": "2022-01-06T18:56:02.880923",
     "exception": false,
     "start_time": "2022-01-06T18:55:59.696879",
     "status": "completed"
    },
    "tags": []
   },
   "outputs": [
    {
     "name": "stdout",
     "output_type": "stream",
     "text": [
      "Setup complete.\n"
     ]
    }
   ],
   "source": [
    "import pandas as pd\n",
    "\n",
    "reviews = pd.read_csv(\"../input/wine-reviews/winemag-data-130k-v2.csv\", index_col=0)\n",
    "#pd.set_option(\"display.max_rows\", 5)\n",
    "\n",
    "from learntools.core import binder; binder.bind(globals())\n",
    "from learntools.pandas.grouping_and_sorting import *\n",
    "print(\"Setup complete.\")"
   ]
  },
  {
   "cell_type": "markdown",
   "id": "e7591b9c",
   "metadata": {
    "papermill": {
     "duration": 0.01807,
     "end_time": "2022-01-06T18:56:02.918455",
     "exception": false,
     "start_time": "2022-01-06T18:56:02.900385",
     "status": "completed"
    },
    "tags": []
   },
   "source": [
    "# Exercises"
   ]
  },
  {
   "cell_type": "markdown",
   "id": "c550bb50",
   "metadata": {
    "papermill": {
     "duration": 0.017778,
     "end_time": "2022-01-06T18:56:02.954686",
     "exception": false,
     "start_time": "2022-01-06T18:56:02.936908",
     "status": "completed"
    },
    "tags": []
   },
   "source": [
    "## 1.\n",
    "Who are the most common wine reviewers in the dataset? Create a `Series` whose index is the `taster_twitter_handle` category from the dataset, and whose values count how many reviews each person wrote."
   ]
  },
  {
   "cell_type": "code",
   "execution_count": 2,
   "id": "4014d3ea",
   "metadata": {
    "execution": {
     "iopub.execute_input": "2022-01-06T18:56:02.996003Z",
     "iopub.status.busy": "2022-01-06T18:56:02.995072Z",
     "iopub.status.idle": "2022-01-06T18:56:03.037120Z",
     "shell.execute_reply": "2022-01-06T18:56:03.037601Z",
     "shell.execute_reply.started": "2022-01-06T18:30:36.722251Z"
    },
    "papermill": {
     "duration": 0.06483,
     "end_time": "2022-01-06T18:56:03.037800",
     "exception": false,
     "start_time": "2022-01-06T18:56:02.972970",
     "status": "completed"
    },
    "tags": []
   },
   "outputs": [
    {
     "data": {
      "application/javascript": [
       "parent.postMessage({\"jupyterEvent\": \"custom.exercise_interaction\", \"data\": {\"outcomeType\": 1, \"valueTowardsCompletion\": 0.16666666666666666, \"interactionType\": 1, \"questionType\": 1, \"questionId\": \"1_ReviewsWritten\", \"learnToolsVersion\": \"0.3.4\", \"failureMessage\": \"\", \"exceptionClass\": \"\", \"trace\": \"\"}}, \"*\")"
      ],
      "text/plain": [
       "<IPython.core.display.Javascript object>"
      ]
     },
     "metadata": {},
     "output_type": "display_data"
    },
    {
     "data": {
      "text/markdown": [
       "<span style=\"color:#33cc33\">Correct:</span> \n",
       "\n",
       "\n",
       "```python\n",
       "reviews_written = reviews.groupby('taster_twitter_handle').size()\n",
       "```\n",
       "or\n",
       "```python\n",
       "reviews_written = reviews.groupby('taster_twitter_handle').taster_twitter_handle.count()\n",
       "```\n"
      ],
      "text/plain": [
       "Correct: \n",
       "\n",
       "\n",
       "```python\n",
       "reviews_written = reviews.groupby('taster_twitter_handle').size()\n",
       "```\n",
       "or\n",
       "```python\n",
       "reviews_written = reviews.groupby('taster_twitter_handle').taster_twitter_handle.count()\n",
       "```"
      ]
     },
     "metadata": {},
     "output_type": "display_data"
    }
   ],
   "source": [
    "# Your code here\n",
    "reviews_written = reviews.groupby('taster_twitter_handle').taster_twitter_handle.count()\n",
    "reviews_written\n",
    "# Check your answer\n",
    "q1.check()"
   ]
  },
  {
   "cell_type": "code",
   "execution_count": 3,
   "id": "efc38c86",
   "metadata": {
    "execution": {
     "iopub.execute_input": "2022-01-06T18:56:03.081433Z",
     "iopub.status.busy": "2022-01-06T18:56:03.080413Z",
     "iopub.status.idle": "2022-01-06T18:56:03.087671Z",
     "shell.execute_reply": "2022-01-06T18:56:03.088197Z",
     "shell.execute_reply.started": "2022-01-06T18:28:38.472253Z"
    },
    "papermill": {
     "duration": 0.031373,
     "end_time": "2022-01-06T18:56:03.088386",
     "exception": false,
     "start_time": "2022-01-06T18:56:03.057013",
     "status": "completed"
    },
    "tags": []
   },
   "outputs": [
    {
     "data": {
      "application/javascript": [
       "parent.postMessage({\"jupyterEvent\": \"custom.exercise_interaction\", \"data\": {\"interactionType\": 3, \"questionType\": 1, \"questionId\": \"1_ReviewsWritten\", \"learnToolsVersion\": \"0.3.4\", \"valueTowardsCompletion\": 0.0, \"failureMessage\": \"\", \"exceptionClass\": \"\", \"trace\": \"\", \"outcomeType\": 4}}, \"*\")"
      ],
      "text/plain": [
       "<IPython.core.display.Javascript object>"
      ]
     },
     "metadata": {},
     "output_type": "display_data"
    },
    {
     "data": {
      "text/markdown": [
       "<span style=\"color:#33cc99\">Solution:</span> \n",
       "```python\n",
       "reviews_written = reviews.groupby('taster_twitter_handle').size()\n",
       "```\n",
       "or\n",
       "```python\n",
       "reviews_written = reviews.groupby('taster_twitter_handle').taster_twitter_handle.count()\n",
       "```\n"
      ],
      "text/plain": [
       "Solution: \n",
       "```python\n",
       "reviews_written = reviews.groupby('taster_twitter_handle').size()\n",
       "```\n",
       "or\n",
       "```python\n",
       "reviews_written = reviews.groupby('taster_twitter_handle').taster_twitter_handle.count()\n",
       "```"
      ]
     },
     "metadata": {},
     "output_type": "display_data"
    }
   ],
   "source": [
    "#q1.hint()\n",
    "q1.solution()"
   ]
  },
  {
   "cell_type": "markdown",
   "id": "e3916118",
   "metadata": {
    "papermill": {
     "duration": 0.020053,
     "end_time": "2022-01-06T18:56:03.128750",
     "exception": false,
     "start_time": "2022-01-06T18:56:03.108697",
     "status": "completed"
    },
    "tags": []
   },
   "source": [
    "## 2.\n",
    "What is the best wine I can buy for a given amount of money? Create a `Series` whose index is wine prices and whose values is the maximum number of points a wine costing that much was given in a review. Sort the values by price, ascending (so that `4.0` dollars is at the top and `3300.0` dollars is at the bottom)."
   ]
  },
  {
   "cell_type": "code",
   "execution_count": 4,
   "id": "6353a3af",
   "metadata": {
    "execution": {
     "iopub.execute_input": "2022-01-06T18:56:03.175529Z",
     "iopub.status.busy": "2022-01-06T18:56:03.174781Z",
     "iopub.status.idle": "2022-01-06T18:56:03.184269Z",
     "shell.execute_reply": "2022-01-06T18:56:03.184726Z",
     "shell.execute_reply.started": "2022-01-06T18:35:48.725239Z"
    },
    "papermill": {
     "duration": 0.035847,
     "end_time": "2022-01-06T18:56:03.184924",
     "exception": false,
     "start_time": "2022-01-06T18:56:03.149077",
     "status": "completed"
    },
    "tags": []
   },
   "outputs": [
    {
     "data": {
      "application/javascript": [
       "parent.postMessage({\"jupyterEvent\": \"custom.exercise_interaction\", \"data\": {\"outcomeType\": 1, \"valueTowardsCompletion\": 0.16666666666666666, \"interactionType\": 1, \"questionType\": 1, \"questionId\": \"2_BestRatingPerPrice\", \"learnToolsVersion\": \"0.3.4\", \"failureMessage\": \"\", \"exceptionClass\": \"\", \"trace\": \"\"}}, \"*\")"
      ],
      "text/plain": [
       "<IPython.core.display.Javascript object>"
      ]
     },
     "metadata": {},
     "output_type": "display_data"
    },
    {
     "data": {
      "text/markdown": [
       "<span style=\"color:#33cc33\">Correct</span>"
      ],
      "text/plain": [
       "Correct"
      ]
     },
     "metadata": {},
     "output_type": "display_data"
    }
   ],
   "source": [
    "best_rating_per_price = reviews.groupby('price').points.max().sort_index()\n",
    "best_rating_per_price\n",
    "\n",
    "# Check your answer\n",
    "q2.check()"
   ]
  },
  {
   "cell_type": "code",
   "execution_count": 5,
   "id": "fde7adaf",
   "metadata": {
    "execution": {
     "iopub.execute_input": "2022-01-06T18:56:03.231220Z",
     "iopub.status.busy": "2022-01-06T18:56:03.230559Z",
     "iopub.status.idle": "2022-01-06T18:56:03.235389Z",
     "shell.execute_reply": "2022-01-06T18:56:03.235889Z",
     "shell.execute_reply.started": "2022-01-06T18:35:11.863186Z"
    },
    "papermill": {
     "duration": 0.029837,
     "end_time": "2022-01-06T18:56:03.236125",
     "exception": false,
     "start_time": "2022-01-06T18:56:03.206288",
     "status": "completed"
    },
    "tags": []
   },
   "outputs": [
    {
     "data": {
      "application/javascript": [
       "parent.postMessage({\"jupyterEvent\": \"custom.exercise_interaction\", \"data\": {\"interactionType\": 3, \"questionType\": 1, \"questionId\": \"2_BestRatingPerPrice\", \"learnToolsVersion\": \"0.3.4\", \"valueTowardsCompletion\": 0.0, \"failureMessage\": \"\", \"exceptionClass\": \"\", \"trace\": \"\", \"outcomeType\": 4}}, \"*\")"
      ],
      "text/plain": [
       "<IPython.core.display.Javascript object>"
      ]
     },
     "metadata": {},
     "output_type": "display_data"
    },
    {
     "data": {
      "text/markdown": [
       "<span style=\"color:#33cc99\">Solution:</span> \n",
       "```python\n",
       "best_rating_per_price = reviews.groupby('price')['points'].max().sort_index()\n",
       "```"
      ],
      "text/plain": [
       "Solution: \n",
       "```python\n",
       "best_rating_per_price = reviews.groupby('price')['points'].max().sort_index()\n",
       "```"
      ]
     },
     "metadata": {},
     "output_type": "display_data"
    }
   ],
   "source": [
    "#q2.hint()\n",
    "q2.solution()"
   ]
  },
  {
   "cell_type": "markdown",
   "id": "c78a2224",
   "metadata": {
    "papermill": {
     "duration": 0.021963,
     "end_time": "2022-01-06T18:56:03.281266",
     "exception": false,
     "start_time": "2022-01-06T18:56:03.259303",
     "status": "completed"
    },
    "tags": []
   },
   "source": [
    "## 3.\n",
    "What are the minimum and maximum prices for each `variety` of wine? Create a `DataFrame` whose index is the `variety` category from the dataset and whose values are the `min` and `max` values thereof."
   ]
  },
  {
   "cell_type": "code",
   "execution_count": 6,
   "id": "6db5446f",
   "metadata": {
    "execution": {
     "iopub.execute_input": "2022-01-06T18:56:03.329132Z",
     "iopub.status.busy": "2022-01-06T18:56:03.328471Z",
     "iopub.status.idle": "2022-01-06T18:56:03.356796Z",
     "shell.execute_reply": "2022-01-06T18:56:03.357301Z",
     "shell.execute_reply.started": "2022-01-06T18:39:42.708166Z"
    },
    "papermill": {
     "duration": 0.053921,
     "end_time": "2022-01-06T18:56:03.357494",
     "exception": false,
     "start_time": "2022-01-06T18:56:03.303573",
     "status": "completed"
    },
    "tags": []
   },
   "outputs": [
    {
     "data": {
      "application/javascript": [
       "parent.postMessage({\"jupyterEvent\": \"custom.exercise_interaction\", \"data\": {\"outcomeType\": 1, \"valueTowardsCompletion\": 0.16666666666666666, \"interactionType\": 1, \"questionType\": 1, \"questionId\": \"3_PriceExtremes\", \"learnToolsVersion\": \"0.3.4\", \"failureMessage\": \"\", \"exceptionClass\": \"\", \"trace\": \"\"}}, \"*\")"
      ],
      "text/plain": [
       "<IPython.core.display.Javascript object>"
      ]
     },
     "metadata": {},
     "output_type": "display_data"
    },
    {
     "data": {
      "text/markdown": [
       "<span style=\"color:#33cc33\">Correct</span>"
      ],
      "text/plain": [
       "Correct"
      ]
     },
     "metadata": {},
     "output_type": "display_data"
    }
   ],
   "source": [
    "price_extremes = reviews.groupby('variety').price.agg([min, max])\n",
    "price_extremes\n",
    "\n",
    "# Check your answer\n",
    "q3.check()"
   ]
  },
  {
   "cell_type": "code",
   "execution_count": 7,
   "id": "1b9d5fdd",
   "metadata": {
    "execution": {
     "iopub.execute_input": "2022-01-06T18:56:03.407311Z",
     "iopub.status.busy": "2022-01-06T18:56:03.406640Z",
     "iopub.status.idle": "2022-01-06T18:56:03.413283Z",
     "shell.execute_reply": "2022-01-06T18:56:03.412648Z",
     "shell.execute_reply.started": "2022-01-06T18:38:44.954183Z"
    },
    "papermill": {
     "duration": 0.032606,
     "end_time": "2022-01-06T18:56:03.413433",
     "exception": false,
     "start_time": "2022-01-06T18:56:03.380827",
     "status": "completed"
    },
    "tags": []
   },
   "outputs": [
    {
     "data": {
      "application/javascript": [
       "parent.postMessage({\"jupyterEvent\": \"custom.exercise_interaction\", \"data\": {\"interactionType\": 3, \"questionType\": 1, \"questionId\": \"3_PriceExtremes\", \"learnToolsVersion\": \"0.3.4\", \"valueTowardsCompletion\": 0.0, \"failureMessage\": \"\", \"exceptionClass\": \"\", \"trace\": \"\", \"outcomeType\": 4}}, \"*\")"
      ],
      "text/plain": [
       "<IPython.core.display.Javascript object>"
      ]
     },
     "metadata": {},
     "output_type": "display_data"
    },
    {
     "data": {
      "text/markdown": [
       "<span style=\"color:#33cc99\">Solution:</span> \n",
       "```python\n",
       "price_extremes = reviews.groupby('variety').price.agg([min, max])\n",
       "```"
      ],
      "text/plain": [
       "Solution: \n",
       "```python\n",
       "price_extremes = reviews.groupby('variety').price.agg([min, max])\n",
       "```"
      ]
     },
     "metadata": {},
     "output_type": "display_data"
    }
   ],
   "source": [
    "#q3.hint()\n",
    "q3.solution()"
   ]
  },
  {
   "cell_type": "markdown",
   "id": "a4062a32",
   "metadata": {
    "papermill": {
     "duration": 0.024383,
     "end_time": "2022-01-06T18:56:03.463113",
     "exception": false,
     "start_time": "2022-01-06T18:56:03.438730",
     "status": "completed"
    },
    "tags": []
   },
   "source": [
    "## 4.\n",
    "What are the most expensive wine varieties? Create a variable `sorted_varieties` containing a copy of the dataframe from the previous question where varieties are sorted in descending order based on minimum price, then on maximum price (to break ties)."
   ]
  },
  {
   "cell_type": "code",
   "execution_count": 8,
   "id": "86996ac2",
   "metadata": {
    "execution": {
     "iopub.execute_input": "2022-01-06T18:56:03.518592Z",
     "iopub.status.busy": "2022-01-06T18:56:03.517817Z",
     "iopub.status.idle": "2022-01-06T18:56:03.523793Z",
     "shell.execute_reply": "2022-01-06T18:56:03.524377Z",
     "shell.execute_reply.started": "2022-01-06T18:43:27.032943Z"
    },
    "papermill": {
     "duration": 0.036892,
     "end_time": "2022-01-06T18:56:03.524588",
     "exception": false,
     "start_time": "2022-01-06T18:56:03.487696",
     "status": "completed"
    },
    "tags": []
   },
   "outputs": [
    {
     "data": {
      "application/javascript": [
       "parent.postMessage({\"jupyterEvent\": \"custom.exercise_interaction\", \"data\": {\"outcomeType\": 1, \"valueTowardsCompletion\": 0.16666666666666666, \"interactionType\": 1, \"questionType\": 1, \"questionId\": \"4_SortedVarieties\", \"learnToolsVersion\": \"0.3.4\", \"failureMessage\": \"\", \"exceptionClass\": \"\", \"trace\": \"\"}}, \"*\")"
      ],
      "text/plain": [
       "<IPython.core.display.Javascript object>"
      ]
     },
     "metadata": {},
     "output_type": "display_data"
    },
    {
     "data": {
      "text/markdown": [
       "<span style=\"color:#33cc33\">Correct</span>"
      ],
      "text/plain": [
       "Correct"
      ]
     },
     "metadata": {},
     "output_type": "display_data"
    }
   ],
   "source": [
    "sorted_varieties = price_extremes.sort_values(by=['min', 'max'], ascending=False)\n",
    "sorted_varieties\n",
    "\n",
    "# Check your answer\n",
    "q4.check()"
   ]
  },
  {
   "cell_type": "code",
   "execution_count": 9,
   "id": "9bfee8c9",
   "metadata": {
    "execution": {
     "iopub.execute_input": "2022-01-06T18:56:03.579374Z",
     "iopub.status.busy": "2022-01-06T18:56:03.578724Z",
     "iopub.status.idle": "2022-01-06T18:56:03.584598Z",
     "shell.execute_reply": "2022-01-06T18:56:03.585106Z",
     "shell.execute_reply.started": "2022-01-06T18:43:18.337900Z"
    },
    "papermill": {
     "duration": 0.035042,
     "end_time": "2022-01-06T18:56:03.585321",
     "exception": false,
     "start_time": "2022-01-06T18:56:03.550279",
     "status": "completed"
    },
    "tags": []
   },
   "outputs": [
    {
     "data": {
      "application/javascript": [
       "parent.postMessage({\"jupyterEvent\": \"custom.exercise_interaction\", \"data\": {\"interactionType\": 3, \"questionType\": 1, \"questionId\": \"4_SortedVarieties\", \"learnToolsVersion\": \"0.3.4\", \"valueTowardsCompletion\": 0.0, \"failureMessage\": \"\", \"exceptionClass\": \"\", \"trace\": \"\", \"outcomeType\": 4}}, \"*\")"
      ],
      "text/plain": [
       "<IPython.core.display.Javascript object>"
      ]
     },
     "metadata": {},
     "output_type": "display_data"
    },
    {
     "data": {
      "text/markdown": [
       "<span style=\"color:#33cc99\">Solution:</span> \n",
       "```python\n",
       "sorted_varieties = price_extremes.sort_values(by=['min', 'max'], ascending=False)\n",
       "```"
      ],
      "text/plain": [
       "Solution: \n",
       "```python\n",
       "sorted_varieties = price_extremes.sort_values(by=['min', 'max'], ascending=False)\n",
       "```"
      ]
     },
     "metadata": {},
     "output_type": "display_data"
    }
   ],
   "source": [
    "#q4.hint()\n",
    "q4.solution()"
   ]
  },
  {
   "cell_type": "markdown",
   "id": "7c587e7b",
   "metadata": {
    "papermill": {
     "duration": 0.026117,
     "end_time": "2022-01-06T18:56:03.637551",
     "exception": false,
     "start_time": "2022-01-06T18:56:03.611434",
     "status": "completed"
    },
    "tags": []
   },
   "source": [
    "## 5.\n",
    "Create a `Series` whose index is reviewers and whose values is the average review score given out by that reviewer. Hint: you will need the `taster_name` and `points` columns."
   ]
  },
  {
   "cell_type": "code",
   "execution_count": 10,
   "id": "7cc69d00",
   "metadata": {
    "execution": {
     "iopub.execute_input": "2022-01-06T18:56:03.712579Z",
     "iopub.status.busy": "2022-01-06T18:56:03.711535Z",
     "iopub.status.idle": "2022-01-06T18:56:03.719894Z",
     "shell.execute_reply": "2022-01-06T18:56:03.720501Z",
     "shell.execute_reply.started": "2022-01-06T18:46:48.796873Z"
    },
    "papermill": {
     "duration": 0.057,
     "end_time": "2022-01-06T18:56:03.720697",
     "exception": false,
     "start_time": "2022-01-06T18:56:03.663697",
     "status": "completed"
    },
    "tags": []
   },
   "outputs": [
    {
     "data": {
      "application/javascript": [
       "parent.postMessage({\"jupyterEvent\": \"custom.exercise_interaction\", \"data\": {\"outcomeType\": 1, \"valueTowardsCompletion\": 0.16666666666666666, \"interactionType\": 1, \"questionType\": 1, \"questionId\": \"5_ReviewerMeanRatings\", \"learnToolsVersion\": \"0.3.4\", \"failureMessage\": \"\", \"exceptionClass\": \"\", \"trace\": \"\"}}, \"*\")"
      ],
      "text/plain": [
       "<IPython.core.display.Javascript object>"
      ]
     },
     "metadata": {},
     "output_type": "display_data"
    },
    {
     "data": {
      "text/markdown": [
       "<span style=\"color:#33cc33\">Correct</span>"
      ],
      "text/plain": [
       "Correct"
      ]
     },
     "metadata": {},
     "output_type": "display_data"
    }
   ],
   "source": [
    "reviewer_mean_ratings = reviews.groupby('taster_name').points.mean()\n",
    "reviewer_mean_ratings\n",
    "\n",
    "# Check your answer\n",
    "q5.check()"
   ]
  },
  {
   "cell_type": "code",
   "execution_count": 11,
   "id": "92d9e7b9",
   "metadata": {
    "execution": {
     "iopub.execute_input": "2022-01-06T18:56:03.782325Z",
     "iopub.status.busy": "2022-01-06T18:56:03.781546Z",
     "iopub.status.idle": "2022-01-06T18:56:03.785882Z",
     "shell.execute_reply": "2022-01-06T18:56:03.786487Z",
     "shell.execute_reply.started": "2022-01-06T18:45:51.329191Z"
    },
    "papermill": {
     "duration": 0.03723,
     "end_time": "2022-01-06T18:56:03.786678",
     "exception": false,
     "start_time": "2022-01-06T18:56:03.749448",
     "status": "completed"
    },
    "tags": []
   },
   "outputs": [
    {
     "data": {
      "application/javascript": [
       "parent.postMessage({\"jupyterEvent\": \"custom.exercise_interaction\", \"data\": {\"interactionType\": 3, \"questionType\": 1, \"questionId\": \"5_ReviewerMeanRatings\", \"learnToolsVersion\": \"0.3.4\", \"valueTowardsCompletion\": 0.0, \"failureMessage\": \"\", \"exceptionClass\": \"\", \"trace\": \"\", \"outcomeType\": 4}}, \"*\")"
      ],
      "text/plain": [
       "<IPython.core.display.Javascript object>"
      ]
     },
     "metadata": {},
     "output_type": "display_data"
    },
    {
     "data": {
      "text/markdown": [
       "<span style=\"color:#33cc99\">Solution:</span> \n",
       "```python\n",
       "reviewer_mean_ratings = reviews.groupby('taster_name').points.mean()\n",
       "```"
      ],
      "text/plain": [
       "Solution: \n",
       "```python\n",
       "reviewer_mean_ratings = reviews.groupby('taster_name').points.mean()\n",
       "```"
      ]
     },
     "metadata": {},
     "output_type": "display_data"
    }
   ],
   "source": [
    "#q5.hint()\n",
    "q5.solution()"
   ]
  },
  {
   "cell_type": "markdown",
   "id": "b78f6095",
   "metadata": {
    "papermill": {
     "duration": 0.028497,
     "end_time": "2022-01-06T18:56:03.844200",
     "exception": false,
     "start_time": "2022-01-06T18:56:03.815703",
     "status": "completed"
    },
    "tags": []
   },
   "source": [
    "Are there significant differences in the average scores assigned by the various reviewers? Run the cell below to use the `describe()` method to see a summary of the range of values."
   ]
  },
  {
   "cell_type": "code",
   "execution_count": 12,
   "id": "b30f7037",
   "metadata": {
    "execution": {
     "iopub.execute_input": "2022-01-06T18:56:03.908042Z",
     "iopub.status.busy": "2022-01-06T18:56:03.907409Z",
     "iopub.status.idle": "2022-01-06T18:56:03.913508Z",
     "shell.execute_reply": "2022-01-06T18:56:03.914165Z",
     "shell.execute_reply.started": "2022-01-06T18:46:52.048928Z"
    },
    "papermill": {
     "duration": 0.041731,
     "end_time": "2022-01-06T18:56:03.914340",
     "exception": false,
     "start_time": "2022-01-06T18:56:03.872609",
     "status": "completed"
    },
    "tags": []
   },
   "outputs": [
    {
     "data": {
      "text/plain": [
       "count    19.000000\n",
       "mean     88.233026\n",
       "std       1.243610\n",
       "min      85.855422\n",
       "25%      87.323501\n",
       "50%      88.536235\n",
       "75%      88.975256\n",
       "max      90.562551\n",
       "Name: points, dtype: float64"
      ]
     },
     "execution_count": 12,
     "metadata": {},
     "output_type": "execute_result"
    }
   ],
   "source": [
    "reviewer_mean_ratings.describe()"
   ]
  },
  {
   "cell_type": "markdown",
   "id": "fb0c3e7c",
   "metadata": {
    "papermill": {
     "duration": 0.027974,
     "end_time": "2022-01-06T18:56:03.970749",
     "exception": false,
     "start_time": "2022-01-06T18:56:03.942775",
     "status": "completed"
    },
    "tags": []
   },
   "source": [
    "## 6.\n",
    "What combination of countries and varieties are most common? Create a `Series` whose index is a `MultiIndex`of `{country, variety}` pairs. For example, a pinot noir produced in the US should map to `{\"US\", \"Pinot Noir\"}`. Sort the values in the `Series` in descending order based on wine count."
   ]
  },
  {
   "cell_type": "code",
   "execution_count": 13,
   "id": "d5f83a7d",
   "metadata": {
    "execution": {
     "iopub.execute_input": "2022-01-06T18:56:04.031717Z",
     "iopub.status.busy": "2022-01-06T18:56:04.031068Z",
     "iopub.status.idle": "2022-01-06T18:56:04.094326Z",
     "shell.execute_reply": "2022-01-06T18:56:04.094906Z",
     "shell.execute_reply.started": "2022-01-06T18:55:20.275364Z"
    },
    "papermill": {
     "duration": 0.095766,
     "end_time": "2022-01-06T18:56:04.095108",
     "exception": false,
     "start_time": "2022-01-06T18:56:03.999342",
     "status": "completed"
    },
    "tags": []
   },
   "outputs": [
    {
     "data": {
      "application/javascript": [
       "parent.postMessage({\"jupyterEvent\": \"custom.exercise_interaction\", \"data\": {\"outcomeType\": 1, \"valueTowardsCompletion\": 0.16666666666666666, \"interactionType\": 1, \"questionType\": 1, \"questionId\": \"6_GroupbyCountryVariety\", \"learnToolsVersion\": \"0.3.4\", \"failureMessage\": \"\", \"exceptionClass\": \"\", \"trace\": \"\"}}, \"*\")"
      ],
      "text/plain": [
       "<IPython.core.display.Javascript object>"
      ]
     },
     "metadata": {},
     "output_type": "display_data"
    },
    {
     "data": {
      "text/markdown": [
       "<span style=\"color:#33cc33\">Correct</span>"
      ],
      "text/plain": [
       "Correct"
      ]
     },
     "metadata": {},
     "output_type": "display_data"
    }
   ],
   "source": [
    "country_variety_counts = reviews.groupby(['country', 'variety']).title.count().sort_values(ascending=False)\n",
    "country_variety_counts\n",
    "\n",
    "# Check your answer\n",
    "q6.check()"
   ]
  },
  {
   "cell_type": "code",
   "execution_count": 14,
   "id": "ba9fc7cf",
   "metadata": {
    "execution": {
     "iopub.execute_input": "2022-01-06T18:56:04.157054Z",
     "iopub.status.busy": "2022-01-06T18:56:04.156368Z",
     "iopub.status.idle": "2022-01-06T18:56:04.162520Z",
     "shell.execute_reply": "2022-01-06T18:56:04.163133Z",
     "shell.execute_reply.started": "2022-01-06T18:51:57.171398Z"
    },
    "papermill": {
     "duration": 0.038905,
     "end_time": "2022-01-06T18:56:04.163311",
     "exception": false,
     "start_time": "2022-01-06T18:56:04.124406",
     "status": "completed"
    },
    "tags": []
   },
   "outputs": [
    {
     "data": {
      "application/javascript": [
       "parent.postMessage({\"jupyterEvent\": \"custom.exercise_interaction\", \"data\": {\"interactionType\": 3, \"questionType\": 1, \"questionId\": \"6_GroupbyCountryVariety\", \"learnToolsVersion\": \"0.3.4\", \"valueTowardsCompletion\": 0.0, \"failureMessage\": \"\", \"exceptionClass\": \"\", \"trace\": \"\", \"outcomeType\": 4}}, \"*\")"
      ],
      "text/plain": [
       "<IPython.core.display.Javascript object>"
      ]
     },
     "metadata": {},
     "output_type": "display_data"
    },
    {
     "data": {
      "text/markdown": [
       "<span style=\"color:#33cc99\">Solution:</span> \n",
       "```python\n",
       "country_variety_counts = reviews.groupby(['country', 'variety']).size().sort_values(ascending=False)\n",
       "```"
      ],
      "text/plain": [
       "Solution: \n",
       "```python\n",
       "country_variety_counts = reviews.groupby(['country', 'variety']).size().sort_values(ascending=False)\n",
       "```"
      ]
     },
     "metadata": {},
     "output_type": "display_data"
    }
   ],
   "source": [
    "#q6.hint()\n",
    "q6.solution()"
   ]
  },
  {
   "cell_type": "markdown",
   "id": "d8e77923",
   "metadata": {
    "papermill": {
     "duration": 0.029542,
     "end_time": "2022-01-06T18:56:04.222932",
     "exception": false,
     "start_time": "2022-01-06T18:56:04.193390",
     "status": "completed"
    },
    "tags": []
   },
   "source": [
    "# Keep going\n",
    "\n",
    "Move on to the [**data types and missing data**](https://www.kaggle.com/residentmario/data-types-and-missing-values)."
   ]
  },
  {
   "cell_type": "markdown",
   "id": "152591a9",
   "metadata": {
    "papermill": {
     "duration": 0.029609,
     "end_time": "2022-01-06T18:56:04.283054",
     "exception": false,
     "start_time": "2022-01-06T18:56:04.253445",
     "status": "completed"
    },
    "tags": []
   },
   "source": [
    "---\n",
    "\n",
    "\n",
    "\n",
    "\n",
    "*Have questions or comments? Visit the [course discussion forum](https://www.kaggle.com/learn/pandas/discussion) to chat with other learners.*"
   ]
  }
 ],
 "metadata": {
  "kernelspec": {
   "display_name": "Python 3",
   "language": "python",
   "name": "python3"
  },
  "language_info": {
   "codemirror_mode": {
    "name": "ipython",
    "version": 3
   },
   "file_extension": ".py",
   "mimetype": "text/x-python",
   "name": "python",
   "nbconvert_exporter": "python",
   "pygments_lexer": "ipython3",
   "version": "3.7.12"
  },
  "papermill": {
   "default_parameters": {},
   "duration": 15.834498,
   "end_time": "2022-01-06T18:56:05.125767",
   "environment_variables": {},
   "exception": null,
   "input_path": "__notebook__.ipynb",
   "output_path": "__notebook__.ipynb",
   "parameters": {},
   "start_time": "2022-01-06T18:55:49.291269",
   "version": "2.3.3"
  }
 },
 "nbformat": 4,
 "nbformat_minor": 5
}
